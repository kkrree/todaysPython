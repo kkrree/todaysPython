{
 "cells": [
  {
   "cell_type": "markdown",
   "metadata": {},
   "source": [
    "Lv. 1 머신러닝 기초 - EDA   \n",
    "   \n",
    "**머신러닝 이란?**\n",
    "- 컴퓨터가 학습을 할 수 있도록 하는 연구분야\n",
    "- 인공지능을 소프트웨어적으로 구현하는 머신러닝은 컴퓨터가 데이터를 학습하고 스스로 패턴을 찾아내 적절한 작업을 수행하도록 학습하는 알고리즘\n",
    "- 머신러닝 시스템(ML)은 관측데이터 D로부터 성능지수P를 최적화 하는 모델M을 자동으로 만드는 기술\n",
    "- 환경(Environment)과의 상호작용을 통해서 축적되는 경험적인 데이터(Data)를 바탕으로 지식, 즉 모델(Model)을 자동으로 구축하고 성능(Performance)룰 향상하는 시스템\n",
    "\n",
    "\n",
    "**EDA**\n",
    "- Exploratory Data Analysis\n",
    "- 데이터를 분석하고 결과를 내는 과정에 있어서 지속적으로 해당 데이터에 대한 ‘탐색과 이해’를 기본으로 가져야 한다는 것\n",
    "- 수집한 데이터가 들어왔을 때, 이를 다양한 각도에서 관찰하고 이해하는 과정\n",
    "- 데이터를 분석하기 전에 그래프다 통계적인 방법으로 지료를 직관적으로 바라보는 과정"
   ]
  },
  {
   "cell_type": "markdown",
   "metadata": {},
   "source": [
    "##### 1. import ; 라이브러리 불러오기\n",
    "\n",
    "데이터 분석 도구, 즉 라이브러리를 불러오는 것 부터가 데이터 분석의 시작이다.\n",
    "> 라이브러리란,   \n",
    "> 주로 소프트웨어를 개발할 때 컴퓨터 프로그램이 사용하는 비휘발성 자원의 모임   \n",
    "> 소프트웨어 개발 시 사용되는 프로그램의 구성요소로, 공통으로 사용될 수 있는 특정 기능들을 모듈화 한 것이다.   "
   ]
  },
  {
   "cell_type": "code",
   "execution_count": null,
   "metadata": {},
   "outputs": [],
   "source": [
    "import [라이브러리] as [사용할 이름]\n",
    "#관례적으로 pandas는 pd, numpy는 np로 alias를 지정 "
   ]
  },
  {
   "cell_type": "markdown",
   "metadata": {},
   "source": [
    "##### 2. read ; 데이터 불러오기\n",
    "파이썬에서 데이터 파일(csv파일)을 불러오기 위해서는 pandas라이브러리를 이용한다.\n",
    "해당 라이브러리에 read_csv함수로 csv파일을 불러온다."
   ]
  },
  {
   "cell_type": "code",
   "execution_count": null,
   "metadata": {},
   "outputs": [],
   "source": [
    "import pandas as pd\n",
    "data=pd.read_csv('파일경로/파일이름.csv')"
   ]
  },
  {
   "cell_type": "markdown",
   "metadata": {},
   "source": [
    "##### 3. shape ; 행 열 갯수 관찰하기\n",
    "read_csv()를 통해 csv 파일을 pandas라이브러리에서 제공하는 **DataFrame**객체로 변환했다면, \n",
    "shape attribute로 불러온 데이터의 행과 열의 갯수를 관찰할 수 있다."
   ]
  },
  {
   "cell_type": "code",
   "execution_count": null,
   "metadata": {},
   "outputs": [],
   "source": [
    "[DataFrame변수명].shape"
   ]
  },
  {
   "cell_type": "markdown",
   "metadata": {},
   "source": [
    "##### 4. head ; 데이터 확인하기\n",
    "head()메서드는 데이터 전부를 보여주지 않고 데이터의 상단부분만 출력하여 보여준다.\n",
    "head와 유사한 tail()메서드는 데이터의 하단 부분을 출력하여 보여준다"
   ]
  },
  {
   "cell_type": "code",
   "execution_count": null,
   "metadata": {},
   "outputs": [],
   "source": [
    "imoprt pandas ad pd\n",
    "train.pd.read_csv('data/train.csv')\n",
    "\n",
    "train.head() \n",
    "#parameter지정하지 않으면, train데이터의 상단 5개 행 출력"
   ]
  },
  {
   "cell_type": "markdown",
   "metadata": {},
   "source": [
    "##### 5. is_null : 결측치 확인하기\n",
    "결측치 = mission value 로 데이터에 값이 없는 것을 뜻한다.   \n",
    "pandas에서는 결측치를 **NaN** 값으로 표현한다.   \n",
    "isnull()메서드를 통해 NaN값을 확인 할 수 있으며, True/Fales값을 리턴한다.   "
   ]
  },
  {
   "cell_type": "code",
   "execution_count": null,
   "metadata": {},
   "outputs": [],
   "source": [
    "import pandas as pd\n",
    "import numpy as np\n",
    "\n",
    "df = pd.DataFrame({\n",
    "        'name': ['kwon', 'park', 'kim'],\n",
    "        'age':[30, np.nan, 19],\n",
    "        'class':[np.nan, np.nan, 1]\n",
    "})\n",
    "\n",
    "df.isnull()"
   ]
  },
  {
   "cell_type": "markdown",
   "metadata": {},
   "source": [
    "isnull() 메소드 뒤에 sum() 메소드를 추가해주면, DataFrame의 각 열별 결측치의 수를 확인할 수 있다."
   ]
  },
  {
   "cell_type": "code",
   "execution_count": null,
   "metadata": {},
   "outputs": [],
   "source": [
    "df.isnull().sum()"
   ]
  }
 ],
 "metadata": {
  "interpreter": {
   "hash": "eb90f64a14668e7cbd2df1b773ade4d27aa2423815bad56692e0ae1609606584"
  },
  "kernelspec": {
   "display_name": "Python 3.7.11 ('ddg')",
   "language": "python",
   "name": "python3"
  },
  "language_info": {
   "name": "python",
   "version": "3.7.11"
  },
  "orig_nbformat": 4
 },
 "nbformat": 4,
 "nbformat_minor": 2
}
