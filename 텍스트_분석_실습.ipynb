{
  "nbformat": 4,
  "nbformat_minor": 0,
  "metadata": {
    "colab": {
      "provenance": [],
      "authorship_tag": "ABX9TyNpfpu1RUJIUeOKHuqId9/W",
      "include_colab_link": true
    },
    "kernelspec": {
      "name": "python3",
      "display_name": "Python 3"
    },
    "language_info": {
      "name": "python"
    }
  },
  "cells": [
    {
      "cell_type": "markdown",
      "metadata": {
        "id": "view-in-github",
        "colab_type": "text"
      },
      "source": [
        "<a href=\"https://colab.research.google.com/github/kkrree/todaysPython/blob/master/%ED%85%8D%EC%8A%A4%ED%8A%B8_%EB%B6%84%EC%84%9D_%EC%8B%A4%EC%8A%B5.ipynb\" target=\"_parent\"><img src=\"https://colab.research.google.com/assets/colab-badge.svg\" alt=\"Open In Colab\"/></a>"
      ]
    },
    {
      "cell_type": "markdown",
      "source": [
        "## 머신러닝 텍스트 분류실습\n",
        "source : https://www.youtube.com/playlist?list=PLaTc2c6yEwmp35y9Z868VlV9NQpG-eBb6\n",
        "\n",
        "머신러닝 기법 분류\n",
        "![이미지](https://i.imgur.com/b6wcQ7f.png)\n",
        "\n",
        "데이터 분석 및 머신러닝 적용 프로세스\n",
        "![이미지](https://i.imgur.com/li0a2zj.png)\n",
        "\n",
        "\n",
        "\n",
        "```\n",
        "# 참고\n",
        "scikit-learn 1.0 이상 버전 사용 권장 (sklearn__version__ 으로 확인)\n",
        "1.0 이하의 버전이라면 conda prompt 혹은 터미널을 열어 아래 명령어로 업그레이드\n",
        "conda : conda update scikit-learn\n",
        "pip install scikit-learn --upgrade\n",
        "```\n"
      ],
      "metadata": {
        "id": "XLdjACvAUkpD"
      }
    },
    {
      "cell_type": "markdown",
      "source": [
        "### 데이터 셋 준비"
      ],
      "metadata": {
        "id": "ilHK3WOsWyf9"
      }
    },
    {
      "cell_type": "code",
      "source": [
        "#드라이브에서 파일 가져오기\n",
        "from google.colab import drive\n",
        "drive.mount('/content/drive')\n",
        "\n",
        "path = \"/content/drive/MyDrive/Nexon_Assignment/\"\n",
        "content =pd.read_csv(path + \"content.csv\")\n",
        "comment =pd.read_csv(path + \"comment.csv\")"
      ],
      "metadata": {
        "id": "cJ7zWt46V_rb"
      },
      "execution_count": null,
      "outputs": []
    },
    {
      "cell_type": "code",
      "source": [
        "# 라이브러리 불러오기\n",
        "# 데이터 분석을 위한 pandas, 수치계산을 위한 numpy, 시각화를 위한 seaborn, matplotlib 을 로드\n",
        "import pandas as pd\n",
        "import numpy as np\n",
        "import seaborn as sns\n",
        "import matplotlib.pyplot as plt"
      ],
      "metadata": {
        "id": "rZh7hon1V8BI"
      },
      "execution_count": null,
      "outputs": []
    },
    {
      "cell_type": "markdown",
      "source": [
        "### 텍스트 데이터 수치 형태로 변경"
      ],
      "metadata": {
        "id": "SOUao5EJW24h"
      }
    },
    {
      "cell_type": "code",
      "source": [
        "# sklearn.feature_extraction.text의 CountVectorizer 로 BOW 벡터화\n",
        "# fit_transform 으로 훈련 및 변환\n",
        "from sklearn.feature_extraction.text import CountVectorizer \n",
        "cvect = CountVectorizer()\n",
        "dtm = cvect.fit_transform(content['title']) \n",
        "dtm # sparse matrix 희소행렬로 변환된 것 확인"
      ],
      "metadata": {
        "id": "ftl20IQcWNpc"
      },
      "execution_count": null,
      "outputs": []
    },
    {
      "cell_type": "markdown",
      "source": [
        "### DTM(document-term matrix)"
      ],
      "metadata": {
        "id": "MTtiohKMXCTD"
      }
    },
    {
      "cell_type": "code",
      "source": [
        "# 피처 가져오기\n",
        "featureNames = cvect.get_feature_names_out()\n",
        "featureNames"
      ],
      "metadata": {
        "id": "CSMk3mMaWPYw"
      },
      "execution_count": null,
      "outputs": []
    },
    {
      "cell_type": "code",
      "source": [
        "# 단어 사전 보기\n",
        "cvect.vocabulary_"
      ],
      "metadata": {
        "id": "XPm06JyOWQ2Y"
      },
      "execution_count": null,
      "outputs": []
    },
    {
      "cell_type": "code",
      "source": [
        "# dtm(document-term matrix)\n",
        "pd.DataFrame(dtm.toarray(), columns = featureNames)"
      ],
      "metadata": {
        "id": "sZE4p1AeWUDS"
      },
      "execution_count": null,
      "outputs": []
    },
    {
      "cell_type": "markdown",
      "source": [
        "### 문제와 정답 만들기"
      ],
      "metadata": {
        "id": "cxwXVjLaXQmg"
      }
    },
    {
      "cell_type": "code",
      "source": [
        "# 독랍변수로 사용할 x 변수에 dtm array를 할당\n",
        "X = dtm.toarray()\n",
        "X"
      ],
      "metadata": {
        "id": "myEMw0IuWWc7"
      },
      "execution_count": null,
      "outputs": []
    },
    {
      "cell_type": "code",
      "source": [
        "# 종속변수로 사용할 변수에 정답값인  값 할당\n",
        "Y = content['viewCount']\n",
        "Y"
      ],
      "metadata": {
        "id": "YuITyc9fWYoN"
      },
      "execution_count": null,
      "outputs": []
    },
    {
      "cell_type": "markdown",
      "source": [
        "### 데이터셋 나누기\n",
        "* 현재 예제에서는 임의로 나눔\n",
        "* test_train_split 을 활용하여 나눌 수 있음"
      ],
      "metadata": {
        "id": "lscS3F4iXYSw"
      }
    },
    {
      "cell_type": "code",
      "source": [
        "# 8:2 의 비율로 구하기 위해 전체 데이터의 행에서 80% 위치에 해당되는 값을 구해서 split_count 라는 변수에 담습니다.\n",
        "splitCount = int(content.shape[0]*0.8)\n",
        "splitCount"
      ],
      "metadata": {
        "id": "G9qdIG0KWbhc"
      },
      "execution_count": null,
      "outputs": []
    },
    {
      "cell_type": "code",
      "source": [
        "# 학습 세트 만들기\n",
        "X_train = X[:splitCount]\n",
        "Y_train = Y[:splitCount]\n",
        "print(X_train.shape, Y_train.shape) # 행 갯수 같은지 확인\n",
        "X_train, Y_train"
      ],
      "metadata": {
        "id": "ziHe1tMnWc1z"
      },
      "execution_count": null,
      "outputs": []
    },
    {
      "cell_type": "code",
      "source": [
        "# 예측 세트 만들기\n",
        "X_test = X[splitCount:]\n",
        "Y_test = Y[splitCount:]\n",
        "print(X_test.shape, Y_test.shape) # 행 갯수 같은지 확인\n",
        "X_test, Y_test"
      ],
      "metadata": {
        "id": "DwmRbnugWei1"
      },
      "execution_count": null,
      "outputs": []
    }
  ]
}